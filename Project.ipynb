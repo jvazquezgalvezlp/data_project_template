{
 "cells": [
  {
   "cell_type": "markdown",
   "metadata": {},
   "source": [
    "Project 1"
   ]
  },
  {
   "cell_type": "code",
   "execution_count": 135,
   "metadata": {},
   "outputs": [],
   "source": [
    "import pymysql\n",
    "from sqlalchemy import create_engine\n",
    "import pandas as pd\n",
    "import numpy as np\n",
    "#API use and web scrapping\n",
    "import requests\n",
    "from bs4 import BeautifulSoup"
   ]
  },
  {
   "cell_type": "code",
   "execution_count": 63,
   "metadata": {},
   "outputs": [],
   "source": [
    "sqlite_path = 'data/raw_data_project_m1.db'\n",
    "conn_str = f'sqlite:///{sqlite_path}'\n",
    "engine = create_engine(conn_str)"
   ]
  },
  {
   "cell_type": "markdown",
   "metadata": {},
   "source": [
    "career_info "
   ]
  },
  {
   "cell_type": "code",
   "execution_count": 64,
   "metadata": {},
   "outputs": [],
   "source": [
    "query = 'SELECT * FROM career_info;'"
   ]
  },
  {
   "cell_type": "code",
   "execution_count": 65,
   "metadata": {},
   "outputs": [
    {
     "data": {
      "text/html": [
       "<div>\n",
       "<style scoped>\n",
       "    .dataframe tbody tr th:only-of-type {\n",
       "        vertical-align: middle;\n",
       "    }\n",
       "\n",
       "    .dataframe tbody tr th {\n",
       "        vertical-align: top;\n",
       "    }\n",
       "\n",
       "    .dataframe thead th {\n",
       "        text-align: right;\n",
       "    }\n",
       "</style>\n",
       "<table border=\"1\" class=\"dataframe\">\n",
       "  <thead>\n",
       "    <tr style=\"text-align: right;\">\n",
       "      <th></th>\n",
       "      <th>uuid</th>\n",
       "      <th>dem_education_level</th>\n",
       "      <th>dem_full_time_job</th>\n",
       "      <th>normalized_job_code</th>\n",
       "    </tr>\n",
       "  </thead>\n",
       "  <tbody>\n",
       "    <tr>\n",
       "      <th>0</th>\n",
       "      <td>f6e7ee00-deac-0133-4de8-0a81e8b09a82</td>\n",
       "      <td>no</td>\n",
       "      <td>no</td>\n",
       "      <td>None</td>\n",
       "    </tr>\n",
       "    <tr>\n",
       "      <th>1</th>\n",
       "      <td>54f0f1c0-dda1-0133-a559-0a81e8b09a82</td>\n",
       "      <td>high</td>\n",
       "      <td>yes</td>\n",
       "      <td>861a9b9151e11362eb3c77ca914172d0</td>\n",
       "    </tr>\n",
       "    <tr>\n",
       "      <th>2</th>\n",
       "      <td>83127080-da3d-0133-c74f-0a81e8b09a82</td>\n",
       "      <td>None</td>\n",
       "      <td>no</td>\n",
       "      <td>None</td>\n",
       "    </tr>\n",
       "    <tr>\n",
       "      <th>3</th>\n",
       "      <td>15626d40-db13-0133-ea5c-0a81e8b09a82</td>\n",
       "      <td>high</td>\n",
       "      <td>yes</td>\n",
       "      <td>049a3f3a2b5f85cb2971ba77ad66e10c</td>\n",
       "    </tr>\n",
       "    <tr>\n",
       "      <th>4</th>\n",
       "      <td>24954a70-db98-0133-4a64-0a81e8b09a82</td>\n",
       "      <td>high</td>\n",
       "      <td>yes</td>\n",
       "      <td>f4b2fb1aa40f661488e2782b6d57ad2f</td>\n",
       "    </tr>\n",
       "  </tbody>\n",
       "</table>\n",
       "</div>"
      ],
      "text/plain": [
       "                                   uuid dem_education_level dem_full_time_job  \\\n",
       "0  f6e7ee00-deac-0133-4de8-0a81e8b09a82                  no                no   \n",
       "1  54f0f1c0-dda1-0133-a559-0a81e8b09a82                high               yes   \n",
       "2  83127080-da3d-0133-c74f-0a81e8b09a82                None                no   \n",
       "3  15626d40-db13-0133-ea5c-0a81e8b09a82                high               yes   \n",
       "4  24954a70-db98-0133-4a64-0a81e8b09a82                high               yes   \n",
       "\n",
       "                normalized_job_code  \n",
       "0                              None  \n",
       "1  861a9b9151e11362eb3c77ca914172d0  \n",
       "2                              None  \n",
       "3  049a3f3a2b5f85cb2971ba77ad66e10c  \n",
       "4  f4b2fb1aa40f661488e2782b6d57ad2f  "
      ]
     },
     "execution_count": 65,
     "metadata": {},
     "output_type": "execute_result"
    }
   ],
   "source": [
    "career_info = pd.read_sql_query(query, engine)\n",
    "career_info.head()"
   ]
  },
  {
   "cell_type": "markdown",
   "metadata": {},
   "source": [
    "Normalized Job Titles"
   ]
  },
  {
   "cell_type": "code",
   "execution_count": 75,
   "metadata": {},
   "outputs": [],
   "source": [
    "list_api = []\n",
    "list_job_code = set(career_info['normalized_job_code'])"
   ]
  },
  {
   "cell_type": "code",
   "execution_count": 79,
   "metadata": {},
   "outputs": [
    {
     "data": {
      "text/html": [
       "<div>\n",
       "<style scoped>\n",
       "    .dataframe tbody tr th:only-of-type {\n",
       "        vertical-align: middle;\n",
       "    }\n",
       "\n",
       "    .dataframe tbody tr th {\n",
       "        vertical-align: top;\n",
       "    }\n",
       "\n",
       "    .dataframe thead th {\n",
       "        text-align: right;\n",
       "    }\n",
       "</style>\n",
       "<table border=\"1\" class=\"dataframe\">\n",
       "  <thead>\n",
       "    <tr style=\"text-align: right;\">\n",
       "      <th></th>\n",
       "      <th>uuid</th>\n",
       "      <th>title</th>\n",
       "      <th>normalized_job_title</th>\n",
       "      <th>parent_uuid</th>\n",
       "      <th>error</th>\n",
       "    </tr>\n",
       "  </thead>\n",
       "  <tbody>\n",
       "    <tr>\n",
       "      <th>0</th>\n",
       "      <td>25fe195cbf915c0824fa6c44e6d0008c</td>\n",
       "      <td>Maintenance Data Analyst</td>\n",
       "      <td>maintenance data analyst</td>\n",
       "      <td>9b44dbc6767274d8b3a820e133803d00</td>\n",
       "      <td>NaN</td>\n",
       "    </tr>\n",
       "    <tr>\n",
       "      <th>1</th>\n",
       "      <td>3def30a9bc4356164176ba909f40bab8</td>\n",
       "      <td>Data Input Clerk</td>\n",
       "      <td>data input clerk</td>\n",
       "      <td>bf88358c56bb6cbe7eabec38ae333d19</td>\n",
       "      <td>NaN</td>\n",
       "    </tr>\n",
       "    <tr>\n",
       "      <th>2</th>\n",
       "      <td>31bf3181813e21ffdfd76b5881fab066</td>\n",
       "      <td>Data Entry Supervisor</td>\n",
       "      <td>data entry supervisor</td>\n",
       "      <td>3ffe9bc56a3fd00b02fbdc71c03976f9</td>\n",
       "      <td>NaN</td>\n",
       "    </tr>\n",
       "    <tr>\n",
       "      <th>3</th>\n",
       "      <td>2f704538f6c9d6459a97314be98124e2</td>\n",
       "      <td>Data Collector</td>\n",
       "      <td>data collector</td>\n",
       "      <td>b9395a0c9f252a057e9b153c5c7f4bdd</td>\n",
       "      <td>NaN</td>\n",
       "    </tr>\n",
       "    <tr>\n",
       "      <th>4</th>\n",
       "      <td>ac2588d5d7676a49bdcd038e4a0a0ec5</td>\n",
       "      <td>Data Compiler</td>\n",
       "      <td>data compiler</td>\n",
       "      <td>325e2251e20170928426473156bd3c48</td>\n",
       "      <td>NaN</td>\n",
       "    </tr>\n",
       "  </tbody>\n",
       "</table>\n",
       "</div>"
      ],
      "text/plain": [
       "                               uuid                     title  \\\n",
       "0  25fe195cbf915c0824fa6c44e6d0008c  Maintenance Data Analyst   \n",
       "1  3def30a9bc4356164176ba909f40bab8          Data Input Clerk   \n",
       "2  31bf3181813e21ffdfd76b5881fab066     Data Entry Supervisor   \n",
       "3  2f704538f6c9d6459a97314be98124e2            Data Collector   \n",
       "4  ac2588d5d7676a49bdcd038e4a0a0ec5             Data Compiler   \n",
       "\n",
       "       normalized_job_title                       parent_uuid error  \n",
       "0  maintenance data analyst  9b44dbc6767274d8b3a820e133803d00   NaN  \n",
       "1          data input clerk  bf88358c56bb6cbe7eabec38ae333d19   NaN  \n",
       "2     data entry supervisor  3ffe9bc56a3fd00b02fbdc71c03976f9   NaN  \n",
       "3            data collector  b9395a0c9f252a057e9b153c5c7f4bdd   NaN  \n",
       "4             data compiler  325e2251e20170928426473156bd3c48   NaN  "
      ]
     },
     "execution_count": 79,
     "metadata": {},
     "output_type": "execute_result"
    }
   ],
   "source": [
    "for i in list_job_code:\n",
    "    response = requests.get(f'http://api.dataatwork.org/v1/jobs/{i}')\n",
    "    result_jobs = response.json()\n",
    "    list_api.append(result_jobs)\n",
    "    \n",
    "data_jobs = pd.DataFrame(list_api)\n",
    "data_jobs.head()\n",
    "    "
   ]
  },
  {
   "cell_type": "markdown",
   "metadata": {},
   "source": [
    "country_info"
   ]
  },
  {
   "cell_type": "code",
   "execution_count": 80,
   "metadata": {},
   "outputs": [
    {
     "data": {
      "text/html": [
       "<div>\n",
       "<style scoped>\n",
       "    .dataframe tbody tr th:only-of-type {\n",
       "        vertical-align: middle;\n",
       "    }\n",
       "\n",
       "    .dataframe tbody tr th {\n",
       "        vertical-align: top;\n",
       "    }\n",
       "\n",
       "    .dataframe thead th {\n",
       "        text-align: right;\n",
       "    }\n",
       "</style>\n",
       "<table border=\"1\" class=\"dataframe\">\n",
       "  <thead>\n",
       "    <tr style=\"text-align: right;\">\n",
       "      <th></th>\n",
       "      <th>uuid</th>\n",
       "      <th>country_code</th>\n",
       "      <th>rural</th>\n",
       "    </tr>\n",
       "  </thead>\n",
       "  <tbody>\n",
       "    <tr>\n",
       "      <th>0</th>\n",
       "      <td>f6e7ee00-deac-0133-4de8-0a81e8b09a82</td>\n",
       "      <td>AT</td>\n",
       "      <td>countryside</td>\n",
       "    </tr>\n",
       "    <tr>\n",
       "      <th>1</th>\n",
       "      <td>54f0f1c0-dda1-0133-a559-0a81e8b09a82</td>\n",
       "      <td>AT</td>\n",
       "      <td>urban</td>\n",
       "    </tr>\n",
       "    <tr>\n",
       "      <th>2</th>\n",
       "      <td>83127080-da3d-0133-c74f-0a81e8b09a82</td>\n",
       "      <td>AT</td>\n",
       "      <td>city</td>\n",
       "    </tr>\n",
       "    <tr>\n",
       "      <th>3</th>\n",
       "      <td>15626d40-db13-0133-ea5c-0a81e8b09a82</td>\n",
       "      <td>AT</td>\n",
       "      <td>Country</td>\n",
       "    </tr>\n",
       "    <tr>\n",
       "      <th>4</th>\n",
       "      <td>24954a70-db98-0133-4a64-0a81e8b09a82</td>\n",
       "      <td>AT</td>\n",
       "      <td>city</td>\n",
       "    </tr>\n",
       "  </tbody>\n",
       "</table>\n",
       "</div>"
      ],
      "text/plain": [
       "                                   uuid country_code        rural\n",
       "0  f6e7ee00-deac-0133-4de8-0a81e8b09a82           AT  countryside\n",
       "1  54f0f1c0-dda1-0133-a559-0a81e8b09a82           AT        urban\n",
       "2  83127080-da3d-0133-c74f-0a81e8b09a82           AT         city\n",
       "3  15626d40-db13-0133-ea5c-0a81e8b09a82           AT      Country\n",
       "4  24954a70-db98-0133-4a64-0a81e8b09a82           AT         city"
      ]
     },
     "execution_count": 80,
     "metadata": {},
     "output_type": "execute_result"
    }
   ],
   "source": [
    "query2 = 'SELECT * FROM country_info;'\n",
    "country_info = pd.read_sql_query(query2, engine)\n",
    "country_info.head()"
   ]
  },
  {
   "cell_type": "markdown",
   "metadata": {},
   "source": [
    "personal_info"
   ]
  },
  {
   "cell_type": "code",
   "execution_count": 82,
   "metadata": {},
   "outputs": [],
   "source": [
    "query3 = 'SELECT * FROM personal_info;'\n",
    "personal_info = pd.read_sql_query(query3, engine)"
   ]
  },
  {
   "cell_type": "markdown",
   "metadata": {},
   "source": [
    "poll_info"
   ]
  },
  {
   "cell_type": "code",
   "execution_count": 84,
   "metadata": {},
   "outputs": [],
   "source": [
    "query4 = 'SELECT * FROM poll_info;'\n",
    "poll_info = pd.read_sql_query(query4, engine)"
   ]
  },
  {
   "cell_type": "markdown",
   "metadata": {},
   "source": [
    "API"
   ]
  },
  {
   "cell_type": "code",
   "execution_count": 86,
   "metadata": {},
   "outputs": [],
   "source": [
    "response = requests.get('http://api.dataatwork.org/v1/jobs')\n",
    "\n",
    "json_data = response.json()"
   ]
  },
  {
   "cell_type": "code",
   "execution_count": 71,
   "metadata": {},
   "outputs": [],
   "source": [
    "job_info = pd.DataFrame(json_data)"
   ]
  },
  {
   "cell_type": "markdown",
   "metadata": {},
   "source": [
    "MERGED DF"
   ]
  },
  {
   "cell_type": "code",
   "execution_count": 48,
   "metadata": {},
   "outputs": [],
   "source": [
    "df_concat = pd.concat([country_info, career_info, job_info], ignore_index=True)"
   ]
  },
  {
   "cell_type": "code",
   "execution_count": 49,
   "metadata": {},
   "outputs": [
    {
     "data": {
      "text/html": [
       "<div>\n",
       "<style scoped>\n",
       "    .dataframe tbody tr th:only-of-type {\n",
       "        vertical-align: middle;\n",
       "    }\n",
       "\n",
       "    .dataframe tbody tr th {\n",
       "        vertical-align: top;\n",
       "    }\n",
       "\n",
       "    .dataframe thead th {\n",
       "        text-align: right;\n",
       "    }\n",
       "</style>\n",
       "<table border=\"1\" class=\"dataframe\">\n",
       "  <thead>\n",
       "    <tr style=\"text-align: right;\">\n",
       "      <th></th>\n",
       "      <th>uuid</th>\n",
       "      <th>country_code</th>\n",
       "      <th>rural</th>\n",
       "      <th>dem_education_level</th>\n",
       "      <th>dem_full_time_job</th>\n",
       "      <th>normalized_job_code</th>\n",
       "      <th>title</th>\n",
       "      <th>normalized_job_title</th>\n",
       "      <th>parent_uuid</th>\n",
       "      <th>links</th>\n",
       "    </tr>\n",
       "  </thead>\n",
       "  <tbody>\n",
       "    <tr>\n",
       "      <th>0</th>\n",
       "      <td>f6e7ee00-deac-0133-4de8-0a81e8b09a82</td>\n",
       "      <td>AT</td>\n",
       "      <td>countryside</td>\n",
       "      <td>NaN</td>\n",
       "      <td>NaN</td>\n",
       "      <td>NaN</td>\n",
       "      <td>NaN</td>\n",
       "      <td>NaN</td>\n",
       "      <td>NaN</td>\n",
       "      <td>NaN</td>\n",
       "    </tr>\n",
       "    <tr>\n",
       "      <th>1</th>\n",
       "      <td>54f0f1c0-dda1-0133-a559-0a81e8b09a82</td>\n",
       "      <td>AT</td>\n",
       "      <td>urban</td>\n",
       "      <td>NaN</td>\n",
       "      <td>NaN</td>\n",
       "      <td>NaN</td>\n",
       "      <td>NaN</td>\n",
       "      <td>NaN</td>\n",
       "      <td>NaN</td>\n",
       "      <td>NaN</td>\n",
       "    </tr>\n",
       "    <tr>\n",
       "      <th>2</th>\n",
       "      <td>83127080-da3d-0133-c74f-0a81e8b09a82</td>\n",
       "      <td>AT</td>\n",
       "      <td>city</td>\n",
       "      <td>NaN</td>\n",
       "      <td>NaN</td>\n",
       "      <td>NaN</td>\n",
       "      <td>NaN</td>\n",
       "      <td>NaN</td>\n",
       "      <td>NaN</td>\n",
       "      <td>NaN</td>\n",
       "    </tr>\n",
       "    <tr>\n",
       "      <th>3</th>\n",
       "      <td>15626d40-db13-0133-ea5c-0a81e8b09a82</td>\n",
       "      <td>AT</td>\n",
       "      <td>Country</td>\n",
       "      <td>NaN</td>\n",
       "      <td>NaN</td>\n",
       "      <td>NaN</td>\n",
       "      <td>NaN</td>\n",
       "      <td>NaN</td>\n",
       "      <td>NaN</td>\n",
       "      <td>NaN</td>\n",
       "    </tr>\n",
       "    <tr>\n",
       "      <th>4</th>\n",
       "      <td>24954a70-db98-0133-4a64-0a81e8b09a82</td>\n",
       "      <td>AT</td>\n",
       "      <td>city</td>\n",
       "      <td>NaN</td>\n",
       "      <td>NaN</td>\n",
       "      <td>NaN</td>\n",
       "      <td>NaN</td>\n",
       "      <td>NaN</td>\n",
       "      <td>NaN</td>\n",
       "      <td>NaN</td>\n",
       "    </tr>\n",
       "  </tbody>\n",
       "</table>\n",
       "</div>"
      ],
      "text/plain": [
       "                                   uuid country_code        rural  \\\n",
       "0  f6e7ee00-deac-0133-4de8-0a81e8b09a82           AT  countryside   \n",
       "1  54f0f1c0-dda1-0133-a559-0a81e8b09a82           AT        urban   \n",
       "2  83127080-da3d-0133-c74f-0a81e8b09a82           AT         city   \n",
       "3  15626d40-db13-0133-ea5c-0a81e8b09a82           AT      Country   \n",
       "4  24954a70-db98-0133-4a64-0a81e8b09a82           AT         city   \n",
       "\n",
       "  dem_education_level dem_full_time_job normalized_job_code title  \\\n",
       "0                 NaN               NaN                 NaN   NaN   \n",
       "1                 NaN               NaN                 NaN   NaN   \n",
       "2                 NaN               NaN                 NaN   NaN   \n",
       "3                 NaN               NaN                 NaN   NaN   \n",
       "4                 NaN               NaN                 NaN   NaN   \n",
       "\n",
       "  normalized_job_title parent_uuid links  \n",
       "0                  NaN         NaN   NaN  \n",
       "1                  NaN         NaN   NaN  \n",
       "2                  NaN         NaN   NaN  \n",
       "3                  NaN         NaN   NaN  \n",
       "4                  NaN         NaN   NaN  "
      ]
     },
     "execution_count": 49,
     "metadata": {},
     "output_type": "execute_result"
    }
   ],
   "source": [
    "df_concat.head()"
   ]
  },
  {
   "cell_type": "code",
   "execution_count": 50,
   "metadata": {},
   "outputs": [],
   "source": [
    "df_concat.drop(['dem_education_level', 'dem_full_time_job','parent_uuid','links'],\n",
    "  axis='columns', inplace=True)"
   ]
  },
  {
   "cell_type": "code",
   "execution_count": 51,
   "metadata": {},
   "outputs": [
    {
     "name": "stdout",
     "output_type": "stream",
     "text": [
      "<class 'pandas.core.frame.DataFrame'>\n",
      "RangeIndex: 19319 entries, 0 to 19318\n",
      "Data columns (total 6 columns):\n",
      " #   Column                Non-Null Count  Dtype \n",
      "---  ------                --------------  ----- \n",
      " 0   uuid                  19318 non-null  object\n",
      " 1   country_code          9649 non-null   object\n",
      " 2   rural                 9649 non-null   object\n",
      " 3   normalized_job_code   5702 non-null   object\n",
      " 4   title                 20 non-null     object\n",
      " 5   normalized_job_title  20 non-null     object\n",
      "dtypes: object(6)\n",
      "memory usage: 905.7+ KB\n"
     ]
    }
   ],
   "source": [
    "df_concat.info()"
   ]
  },
  {
   "cell_type": "code",
   "execution_count": 53,
   "metadata": {},
   "outputs": [
    {
     "data": {
      "text/plain": [
       "uuid                        1\n",
       "country_code             9670\n",
       "rural                    9670\n",
       "normalized_job_code     13617\n",
       "title                   19299\n",
       "normalized_job_title    19299\n",
       "dtype: int64"
      ]
     },
     "execution_count": 53,
     "metadata": {},
     "output_type": "execute_result"
    }
   ],
   "source": [
    "df_concat.isnull().sum()"
   ]
  },
  {
   "cell_type": "code",
   "execution_count": 57,
   "metadata": {},
   "outputs": [
    {
     "data": {
      "text/plain": [
       "uuid                       0\n",
       "country_code            5702\n",
       "rural                   5702\n",
       "normalized_job_code        0\n",
       "title                   5702\n",
       "normalized_job_title    5702\n",
       "dtype: int64"
      ]
     },
     "execution_count": 57,
     "metadata": {},
     "output_type": "execute_result"
    }
   ],
   "source": [
    "df = df_concat.dropna(axis=0, subset=['normalized_job_code'])\n",
    "df.isnull().sum()"
   ]
  },
  {
   "cell_type": "markdown",
   "metadata": {},
   "source": [
    "Web sacrapping"
   ]
  },
  {
   "cell_type": "code",
   "execution_count": 91,
   "metadata": {},
   "outputs": [
    {
     "data": {
      "text/plain": [
       "b'\\xef\\xbb\\xbf<!DOCTYPE html>\\n<html lang=\"en\" dir=\"ltr\" class=\"client-nojs\">\\n<head>\\n<meta http-equiv=\"X-UA-Compatible\" content=\"Ie=Edge,chrome=1\"/> <meta charset=\"UTF-8\" /><title>Glossary:Country codes - Statistics Explained</title>\\n<meta name=\"generator\" content=\"MediaWiki 1.22.5\" />\\n<link rel=\"shortcut icon\" href=\"https://ec.europa.eu/eurostat/estat-theme/images/favicon.ico\" />\\n<link rel=\"search\" type=\"application/opensearchdescription+xml\" href=\"/eurostat/statistics-explained/opensearch_desc.php\" title=\"Statistics Explained (en)\" />\\n<link rel=\"EditURI\" type=\"application/rsd+xml\" href=\"https://ec.europ'"
      ]
     },
     "execution_count": 91,
     "metadata": {},
     "output_type": "execute_result"
    }
   ],
   "source": [
    "url = 'https://ec.europa.eu/eurostat/statistics-explained/index.php/Glossary:Country_codes'\n",
    "html = requests.get(url).content\n",
    "html[0:600]   "
   ]
  },
  {
   "cell_type": "code",
   "execution_count": 130,
   "metadata": {},
   "outputs": [],
   "source": [
    "soup = BeautifulSoup(html, 'html')"
   ]
  },
  {
   "cell_type": "code",
   "execution_count": 132,
   "metadata": {},
   "outputs": [],
   "source": [
    "country_codes = pd.read_html(url)"
   ]
  },
  {
   "cell_type": "code",
   "execution_count": 139,
   "metadata": {},
   "outputs": [
    {
     "ename": "TypeError",
     "evalue": "list indices must be integers or slices, not str",
     "output_type": "error",
     "traceback": [
      "\u001b[0;31m---------------------------------------------------------------------------\u001b[0m",
      "\u001b[0;31mTypeError\u001b[0m                                 Traceback (most recent call last)",
      "\u001b[0;32m<ipython-input-139-c8845bb9a69a>\u001b[0m in \u001b[0;36m<module>\u001b[0;34m\u001b[0m\n\u001b[0;32m----> 1\u001b[0;31m \u001b[0mcountry_codes\u001b[0m\u001b[0;34m[\u001b[0m\u001b[0;34m'0'\u001b[0m\u001b[0;34m]\u001b[0m\u001b[0;34m\u001b[0m\u001b[0;34m\u001b[0m\u001b[0m\n\u001b[0m",
      "\u001b[0;31mTypeError\u001b[0m: list indices must be integers or slices, not str"
     ]
    }
   ],
   "source": [
    "country_codes['0']"
   ]
  },
  {
   "cell_type": "code",
   "execution_count": 137,
   "metadata": {},
   "outputs": [
    {
     "name": "stderr",
     "output_type": "stream",
     "text": [
      "<ipython-input-137-fc5870e2e382>:1: VisibleDeprecationWarning: Creating an ndarray from ragged nested sequences (which is a list-or-tuple of lists-or-tuples-or ndarrays with different lengths or shapes) is deprecated. If you meant to do this, you must specify 'dtype=object' when creating the ndarray\n",
      "  df_country_codes = np.array([v for v in country_codes])\n"
     ]
    }
   ],
   "source": [
    "df_country_codes = np.array([v for v in country_codes])"
   ]
  },
  {
   "cell_type": "code",
   "execution_count": null,
   "metadata": {},
   "outputs": [],
   "source": []
  }
 ],
 "metadata": {
  "kernelspec": {
   "display_name": "Python 3",
   "language": "python",
   "name": "python3"
  },
  "language_info": {
   "codemirror_mode": {
    "name": "ipython",
    "version": 3
   },
   "file_extension": ".py",
   "mimetype": "text/x-python",
   "name": "python",
   "nbconvert_exporter": "python",
   "pygments_lexer": "ipython3",
   "version": "3.8.6"
  }
 },
 "nbformat": 4,
 "nbformat_minor": 4
}
